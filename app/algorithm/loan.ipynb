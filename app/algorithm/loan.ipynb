{
 "cells": [
  {
   "cell_type": "markdown",
   "metadata": {},
   "source": [
    "# 대출 이자 계산 알고리즘"
   ]
  },
  {
   "cell_type": "markdown",
   "metadata": {},
   "source": [
    "## 대출 상환 방식\n",
    "- 원금균등상환\n",
    "- 원리금균등상환\n",
    "- 만기일시상환"
   ]
  },
  {
   "cell_type": "code",
   "execution_count": 5,
   "metadata": {},
   "outputs": [],
   "source": [
    "import datetime\n",
    "import pandas as pd"
   ]
  },
  {
   "cell_type": "markdown",
   "metadata": {},
   "source": [
    "### 원금균등상환"
   ]
  },
  {
   "cell_type": "code",
   "execution_count": 16,
   "metadata": {},
   "outputs": [
    {
     "name": "stdout",
     "output_type": "stream",
     "text": [
      "{'period': 1, 'emi': 2011.55, 'principal_payment': 1992.32, 'interest_payment': 19.23, 'outstanding_principal': 8007.68}\n",
      "{'period': 2, 'emi': 2011.55, 'principal_payment': 1996.15, 'interest_payment': 15.4, 'outstanding_principal': 6011.52}\n",
      "{'period': 3, 'emi': 2011.55, 'principal_payment': 1999.99, 'interest_payment': 11.56, 'outstanding_principal': 4011.53}\n",
      "{'period': 4, 'emi': 2011.55, 'principal_payment': 2003.84, 'interest_payment': 7.71, 'outstanding_principal': 2007.69}\n",
      "{'period': 5, 'emi': 2011.55, 'principal_payment': 2007.69, 'interest_payment': 3.86, 'outstanding_principal': -0.0}\n"
     ]
    }
   ],
   "source": [
    "def calculate_emi(principal, rate, periods):\n",
    "    emi = principal * rate * (1 + rate) ** periods / ((1 + rate) ** periods - 1)\n",
    "    return emi\n",
    "\n",
    "def amortization_schedule(principal, annual_rate, periods, frequency='monthly'):\n",
    "    if frequency == 'monthly':\n",
    "        period_rate = annual_rate / 12\n",
    "        total_periods = periods\n",
    "    elif frequency == 'biweekly':\n",
    "        period_rate = annual_rate / 26\n",
    "        total_periods = periods * 12 // 26\n",
    "    elif frequency == 'weekly':\n",
    "        period_rate = annual_rate / 52\n",
    "        total_periods = periods * 12 // 52\n",
    "    else:\n",
    "        raise ValueError(\"Invalid frequency. Choose from 'monthly', 'biweekly', or 'weekly'.\")\n",
    "    \n",
    "    emi = calculate_emi(principal, period_rate, total_periods)\n",
    "    \n",
    "    schedule = []\n",
    "    outstanding_principal = principal\n",
    "    \n",
    "    for period in range(1, total_periods + 1):\n",
    "        interest_payment = outstanding_principal * period_rate\n",
    "        principal_payment = emi - interest_payment\n",
    "        outstanding_principal -= principal_payment\n",
    "        \n",
    "        schedule.append({\n",
    "            'period': period,\n",
    "            'emi': round(emi, 2),\n",
    "            'principal_payment': round(principal_payment, 2),\n",
    "            'interest_payment': round(interest_payment, 2),\n",
    "            'outstanding_principal': round(outstanding_principal, 2)\n",
    "        })\n",
    "        \n",
    "    return schedule\n",
    "\n",
    "# 예시: 대출 원금 10,000, 연이율 5%, 기간 12개월, 2주마다 상환\n",
    "principal = 10000\n",
    "annual_rate = 0.05\n",
    "periods = 12\n",
    "frequency = 'biweekly'\n",
    "\n",
    "schedule = amortization_schedule(principal, annual_rate, periods, frequency)\n",
    "for payment in schedule:\n",
    "    print(payment)\n"
   ]
  },
  {
   "cell_type": "code",
   "execution_count": null,
   "metadata": {},
   "outputs": [],
   "source": []
  }
 ],
 "metadata": {
  "kernelspec": {
   "display_name": "sm",
   "language": "python",
   "name": "sm"
  },
  "language_info": {
   "codemirror_mode": {
    "name": "ipython",
    "version": 3
   },
   "file_extension": ".py",
   "mimetype": "text/x-python",
   "name": "python",
   "nbconvert_exporter": "python",
   "pygments_lexer": "ipython3",
   "version": "3.11.9"
  }
 },
 "nbformat": 4,
 "nbformat_minor": 2
}
